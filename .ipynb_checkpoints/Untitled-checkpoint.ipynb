{
 "cells": [
  {
   "cell_type": "markdown",
   "id": "25fbef49",
   "metadata": {},
   "source": [
    "# WATER RESTORATION IN MAJI NDOGO PHASE 1"
   ]
  },
  {
   "cell_type": "markdown",
   "id": "1c7384fd",
   "metadata": {},
   "source": [
    "## Key Considerations for this phase"
   ]
  },
  {
   "cell_type": "code",
   "execution_count": null,
   "id": "42e1456e",
   "metadata": {},
   "outputs": [],
   "source": [
    "Task 1: Get to know our data\n",
    "Task 2: Dive into the water sources\n",
    "Task 3: Unpack the visits to water sources\n",
    "Task 4: Assess the quality of water sources\n",
    "Task 5: Investigate any pollution issues"
   ]
  }
 ],
 "metadata": {
  "kernelspec": {
   "display_name": "Python 3 (ipykernel)",
   "language": "python",
   "name": "python3"
  },
  "language_info": {
   "codemirror_mode": {
    "name": "ipython",
    "version": 3
   },
   "file_extension": ".py",
   "mimetype": "text/x-python",
   "name": "python",
   "nbconvert_exporter": "python",
   "pygments_lexer": "ipython3",
   "version": "3.11.5"
  }
 },
 "nbformat": 4,
 "nbformat_minor": 5
}
